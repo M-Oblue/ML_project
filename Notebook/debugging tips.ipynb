{
 "cells": [
  {
   "cell_type": "code",
   "execution_count": null,
   "metadata": {},
   "outputs": [],
   "source": [
    "# to isolate source of error\n",
    "\"\"\"\n",
    "1. identify which line generated error by looking which log line got printed last.\n",
    "2. if error occurs in ml function/logic and for small lines of code, then you can replicate that code block in jupyter notebook to visualize data.\n",
    "3. best option for large and small codes is to use logging just before errors, to print error generating values. This is better than replicating entire code blocks in jupyter notebook.\n",
    "\n",
    "\"\"\""
   ]
  }
 ],
 "metadata": {
  "kernelspec": {
   "display_name": "Python 3.7.0 (conda)",
   "language": "python",
   "name": "python3"
  },
  "language_info": {
   "name": "python",
   "version": "3.7.0"
  },
  "orig_nbformat": 4,
  "vscode": {
   "interpreter": {
    "hash": "8f9f99d8253be4fd7a5fa929bdc4a426350339f1b823a2a4c203e56e091ef5ab"
   }
  }
 },
 "nbformat": 4,
 "nbformat_minor": 2
}
