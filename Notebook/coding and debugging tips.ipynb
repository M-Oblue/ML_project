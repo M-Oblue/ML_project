{
 "cells": [
  {
   "cell_type": "code",
   "execution_count": null,
   "metadata": {},
   "outputs": [],
   "source": [
    "# to isolate source of error\n",
    "\"\"\"\n",
    "1. identify which line generated error by looking which log line got printed last.\n",
    "2. if error occurs in ml function/logic and for small lines of code, then you can replicate that code block in jupyter notebook to visualize data.\n",
    "3. best option for large and small codes is to use logging just before errors, to print error generating values. This is better than replicating entire code blocks in jupyter notebook.\n",
    "\n",
    "\"\"\""
   ]
  },
  {
   "cell_type": "code",
   "execution_count": null,
   "metadata": {},
   "outputs": [],
   "source": [
    "# dynamic importing:\n",
    "\"\"\"\n",
    "usually we use 'from sklearn import linear model'.\n",
    "\n",
    "but using importlib module we can dynamically import any module.\n",
    "e.g.:\n",
    "import importlib\n",
    "pd = importlib.import_module('pandas')\n",
    "\"\"\""
   ]
  },
  {
   "cell_type": "code",
   "execution_count": 12,
   "metadata": {},
   "outputs": [
    {
     "name": "stdout",
     "output_type": "stream",
     "text": [
      "a =  3, b = 6\n"
     ]
    },
    {
     "data": {
      "text/plain": [
       "3"
      ]
     },
     "execution_count": 12,
     "metadata": {},
     "output_type": "execute_result"
    }
   ],
   "source": [
    "# getattr(), setattr() used for dynamic programming.\n",
    "\n",
    "class A:\n",
    "    pass\n",
    "# setting value manually.\n",
    "A.a = 3\n",
    "\n",
    "# setting value using setattr().\n",
    "setattr(A, 'b', 6)\n",
    "\n",
    "# getting values using print.\n",
    "print(f'a =  {A.a}, b = {A.b}', sep='\\t')\n",
    "\n",
    "# getting value using getattr().\n",
    "getattr(A,'a')"
   ]
  },
  {
   "cell_type": "code",
   "execution_count": null,
   "metadata": {},
   "outputs": [],
   "source": [
    "# Thread module in python\n",
    "from threading import Thread\n",
    "\"\"\"\n",
    "threading creates a separate dedicated thread for an operation which runs independent of pipeline.\n",
    "eg: we create a thread when starting a pipeline, so pipeline will keep running in background and we can still access resources till the time\n",
    "pipeline runs.\n",
    "\n",
    "\"\"\""
   ]
  },
  {
   "cell_type": "code",
   "execution_count": 34,
   "metadata": {},
   "outputs": [
    {
     "data": {
      "text/plain": [
       "'c:\\\\Users\\\\Amit\\\\Documents\\\\projects\\\\ml project'"
      ]
     },
     "execution_count": 34,
     "metadata": {},
     "output_type": "execute_result"
    }
   ],
   "source": [
    "# to change dir to parent project dir.\n",
    "import os \n",
    "os.chdir(os.pardir)\n",
    "os.getcwd()"
   ]
  },
  {
   "cell_type": "code",
   "execution_count": null,
   "metadata": {},
   "outputs": [],
   "source": []
  },
  {
   "cell_type": "code",
   "execution_count": null,
   "metadata": {},
   "outputs": [],
   "source": []
  },
  {
   "cell_type": "code",
   "execution_count": null,
   "metadata": {},
   "outputs": [],
   "source": []
  },
  {
   "cell_type": "code",
   "execution_count": null,
   "metadata": {},
   "outputs": [],
   "source": []
  }
 ],
 "metadata": {
  "kernelspec": {
   "display_name": "Python 3.7.0 (conda)",
   "language": "python",
   "name": "python3"
  },
  "language_info": {
   "codemirror_mode": {
    "name": "ipython",
    "version": 3
   },
   "file_extension": ".py",
   "mimetype": "text/x-python",
   "name": "python",
   "nbconvert_exporter": "python",
   "pygments_lexer": "ipython3",
   "version": "3.7.0"
  },
  "orig_nbformat": 4,
  "vscode": {
   "interpreter": {
    "hash": "8f9f99d8253be4fd7a5fa929bdc4a426350339f1b823a2a4c203e56e091ef5ab"
   }
  }
 },
 "nbformat": 4,
 "nbformat_minor": 2
}
