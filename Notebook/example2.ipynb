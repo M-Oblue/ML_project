{
 "cells": [
  {
   "cell_type": "code",
   "execution_count": null,
   "metadata": {},
   "outputs": [],
   "source": [
    "# Stratified split -> used to get same distribution of train and test dataset ,, same as original dataset distribution."
   ]
  },
  {
   "cell_type": "code",
   "execution_count": 1,
   "metadata": {},
   "outputs": [],
   "source": [
    "# Cross-validation -> used when we have small amount of data, in this we use entire dataset for training and testing.\n",
    "# every record will be part of training and testing."
   ]
  },
  {
   "cell_type": "code",
   "execution_count": 2,
   "metadata": {},
   "outputs": [],
   "source": [
    "# Kfold cross-validation -> in a 75:25 split, we rotate the test set though the entire dataset in 4 folds. \n",
    "# From 1st 25% to 2nd 25% and so on."
   ]
  },
  {
   "cell_type": "code",
   "execution_count": 4,
   "metadata": {},
   "outputs": [],
   "source": [
    "# pythonic schema generation :\n",
    "\n",
    "# this will generate column datatypes.\n",
    "\n",
    "data_type = list(map(lambda x:str(x).replace(\"dtype('\",\"\").replace(\"')\",\"\"),(housing_data_frame.dtypes.values)))\n",
    "\n",
    "# and this will generate columns names.\n",
    "\n",
    "columns = housing_data_frame.columns\n",
    "\n",
    "# now we will zip columns names and datatypes to generate schema.\n",
    "\n",
    "dict(zip(columns,data_type))\n",
    "\n"
   ]
  },
  {
   "cell_type": "code",
   "execution_count": null,
   "metadata": {},
   "outputs": [],
   "source": []
  }
 ],
 "metadata": {
  "kernelspec": {
   "display_name": "Python 3.7.0 (conda)",
   "language": "python",
   "name": "python3"
  },
  "language_info": {
   "codemirror_mode": {
    "name": "ipython",
    "version": 3
   },
   "file_extension": ".py",
   "mimetype": "text/x-python",
   "name": "python",
   "nbconvert_exporter": "python",
   "pygments_lexer": "ipython3",
   "version": "3.7.0"
  },
  "orig_nbformat": 4,
  "vscode": {
   "interpreter": {
    "hash": "8f9f99d8253be4fd7a5fa929bdc4a426350339f1b823a2a4c203e56e091ef5ab"
   }
  }
 },
 "nbformat": 4,
 "nbformat_minor": 2
}
